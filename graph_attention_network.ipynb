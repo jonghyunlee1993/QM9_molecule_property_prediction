{
 "cells": [
  {
   "cell_type": "code",
   "execution_count": 1,
   "id": "00ae9c40",
   "metadata": {},
   "outputs": [],
   "source": [
    "import os\n",
    "import torch\n",
    "import numpy as np\n",
    "from tqdm import tqdm\n",
    "\n",
    "from torch import nn, optim\n",
    "import torch.nn.functional as F\n",
    "from torch.utils.data import DataLoader\n",
    "\n",
    "from qm9_dataset import QM9DGLDataset\n",
    "\n",
    "import dgl\n",
    "from dgllife.model.gnn.gat import GAT\n",
    "\n",
    "import pytorch_lightning as pl\n",
    "import torchmetrics.functional as tm\n",
    "from pytorch_lightning.callbacks import ModelCheckpoint, EarlyStopping\n",
    "\n",
    "config = {\n",
    "    \"data_path\": \"./data/\",\n",
    "    \"task\": \"mu\",\n",
    "    \"train_data\": \"qm9_train_data.pt\",\n",
    "    \"test_data\": \"qm9_test_data.pt\",\n",
    "    \"batch_size\": 1024,\n",
    "    \"num_workers\": 16\n",
    "}"
   ]
  },
  {
   "cell_type": "code",
   "execution_count": 2,
   "id": "2582a49f",
   "metadata": {
    "scrolled": true
   },
   "outputs": [
    {
     "name": "stdout",
     "output_type": "stream",
     "text": [
      "Loaded train-set, task: mu, source: ./data/, length: 98123\n",
      "Loaded test-set, task: mu, source: ./data/, length: 32708\n",
      "Train set size: 78498\n",
      "Validation set size: 19625\n",
      "Test set size: 32708\n"
     ]
    }
   ],
   "source": [
    "dataset = QM9DGLDataset(config[\"data_path\"],\n",
    "                        config[\"task\"],\n",
    "                        file_name=config[\"train_data\"],\n",
    "                        mode='train')\n",
    "\n",
    "train_dataset, val_dataset = dataset.train_val_random_split(0.8)\n",
    "\n",
    "\n",
    "train_dataloader = DataLoader(train_dataset,\n",
    "                              batch_size=config[\"batch_size\"],\n",
    "                              shuffle=True,\n",
    "                              collate_fn=dataset.collate_fn,\n",
    "                              num_workers=config[\"num_workers\"])\n",
    "\n",
    "valid_dataloader = DataLoader(val_dataset,\n",
    "                              batch_size=config[\"batch_size\"],\n",
    "                              shuffle=False,\n",
    "                              collate_fn=dataset.collate_fn,\n",
    "                              num_workers=config[\"num_workers\"])\n",
    "\n",
    "# Test Dataset\n",
    "test_dataset = QM9DGLDataset(config[\"data_path\"],\n",
    "                             config[\"task\"],\n",
    "                             file_name=config[\"test_data\"],\n",
    "                             mode='test')\n",
    "\n",
    "test_dataloader = DataLoader(test_dataset,\n",
    "                             batch_size=config[\"batch_size\"],\n",
    "                             shuffle=False,\n",
    "                             collate_fn=test_dataset.collate_fn,\n",
    "                             num_workers=config[\"num_workers\"])\n",
    "\n",
    "print(f\"Train set size: {len(train_dataset)}\")\n",
    "print(f\"Validation set size: {len(val_dataset)}\")\n",
    "print(f\"Test set size: {len(test_dataset)}\")"
   ]
  },
  {
   "cell_type": "code",
   "execution_count": 3,
   "id": "2c2157f0",
   "metadata": {},
   "outputs": [],
   "source": [
    "import torch\n",
    "import torch.nn as nn\n",
    "import torch.nn.functional as F\n",
    "from dgl.nn.pytorch.glob import AvgPooling\n",
    "\n",
    "\n",
    "class MLPReadout(nn.Module):\n",
    "    def __init__(self, input_dim, output_dim, num_layers=2):  # L=nb_hidden_layers\n",
    "        super(MLPReadout, self).__init__()\n",
    "        FC_layers = []\n",
    "        \n",
    "        # Add hidden FC layers\n",
    "        for l in range(num_layers):\n",
    "            FC_layers += [\n",
    "                nn.Linear(input_dim // 2 ** l, input_dim // 2 ** (l + 1), bias=True),\n",
    "                nn.ReLU(),\n",
    "            ]\n",
    "\n",
    "        # Add output FC layer\n",
    "        FC_layers.append(nn.Linear(input_dim // 2 ** num_layers, output_dim, bias=True))\n",
    "        self.FC_layers = nn.Sequential(*FC_layers)\n",
    "\n",
    "    def forward(self, x):\n",
    "        x = self.FC_layers(x)\n",
    "    \n",
    "        return x\n",
    "\n",
    "    \n",
    "class GNN(nn.Module):\n",
    "    def __init__(self, num_atom_type, graph_encoder_dim, \n",
    "                 hidden_dims=[32, 64, 128, 256, 256], \n",
    "                 num_heads=[4, 6, 8, 12, 12]):\n",
    "        super().__init__()\n",
    "        self.embedding = nn.Embedding(num_atom_type, graph_encoder_dim)\n",
    "        self.backbone = GAT(in_feats=graph_encoder_dim,\n",
    "                            hidden_feats=hidden_dims,\n",
    "                            num_heads=num_heads,\n",
    "                            feat_drops=[0.1] * len(hidden_dims), \n",
    "                            activations=[nn.ReLU()] * len(hidden_dims))\n",
    "        \n",
    "        self.pooling_layer = AvgPooling()\n",
    "        self.MLP_layer = MLPReadout(input_dim=hidden_dims[-1], output_dim=1, num_layers=3)\n",
    "        \n",
    "        \n",
    "    def forward(self, graph):\n",
    "        feats = graph.ndata['f']\n",
    "        embeddings = self.embedding(feats)\n",
    "       \n",
    "        x = self.backbone(graph, embeddings)     \n",
    "        graph_embedding = self.pooling_layer(graph, x)\n",
    "        out = self.MLP_layer(graph_embedding)\n",
    "        \n",
    "        return out"
   ]
  },
  {
   "cell_type": "code",
   "execution_count": 4,
   "id": "ab15f152",
   "metadata": {
    "scrolled": true
   },
   "outputs": [
    {
     "name": "stderr",
     "output_type": "stream",
     "text": [
      "/home/ubuntu/anaconda3/envs/graph/lib/python3.8/site-packages/pytorch_lightning/trainer/connectors/accelerator_connector.py:447: LightningDeprecationWarning: Setting `Trainer(gpus=1)` is deprecated in v1.7 and will be removed in v2.0. Please use `Trainer(accelerator='gpu', devices=1)` instead.\n",
      "  rank_zero_deprecation(\n",
      "GPU available: True (cuda), used: True\n",
      "TPU available: False, using: 0 TPU cores\n",
      "IPU available: False, using: 0 IPUs\n",
      "HPU available: False, using: 0 HPUs\n"
     ]
    }
   ],
   "source": [
    "class Mu_predictor(pl.LightningModule):\n",
    "    def __init__(self, model):\n",
    "        super().__init__()\n",
    "        self.model = model\n",
    "    \n",
    "    def step(self, batch):\n",
    "        graph, y = batch\n",
    "        pred = self.model(graph)\n",
    "        loss = F.mse_loss(pred, y)\n",
    "        acc = tm.mean_absolute_error(pred, y)\n",
    "        \n",
    "        return pred, loss, acc\n",
    "    \n",
    "       \n",
    "    def training_step(self, batch, batch_idx):\n",
    "        _, loss, acc = self.step(batch)\n",
    "        \n",
    "        self.log('train_loss', loss, on_step=False, on_epoch=True, prog_bar=True)\n",
    "#         self.log(\"train_acc\", acc, on_step=False, on_epoch=True, prog_bar=True)\n",
    "        \n",
    "        return loss\n",
    "\n",
    "    \n",
    "    def validation_step(self, batch, batch_idx):\n",
    "        _, loss, acc = self.step(batch)\n",
    "        \n",
    "        self.log('valid_loss', loss, on_step=False, on_epoch=True, prog_bar=True)\n",
    "        self.log(\"valid_acc\", acc, on_step=False, on_epoch=True, prog_bar=True)\n",
    "    \n",
    "    \n",
    "    def test_step(self, batch, batch_idx):\n",
    "        _, loss, acc = self.step(batch)\n",
    "        \n",
    "        self.log('test_loss', loss, on_step=False, on_epoch=True, prog_bar=True)\n",
    "        self.log(\"test_acc\", acc, on_step=False, on_epoch=True, prog_bar=True)\n",
    "    \n",
    "    \n",
    "    def predict_step(self, batch, batch_idx):\n",
    "        return self.model(batch)\n",
    "    \n",
    "    \n",
    "    def configure_optimizers(self):\n",
    "        optimizer = torch.optim.Adam(self.parameters(), lr=1e-4)\n",
    "        scheduler = torch.optim.lr_scheduler.CosineAnnealingLR(optimizer, T_max=20)\n",
    "    \n",
    "        return {\"optimizer\": optimizer, \"lr_scheduler\": scheduler}\n",
    "    \n",
    "    \n",
    "model = GNN(num_atom_type=5, graph_encoder_dim=64)\n",
    "predictor = Mu_predictor(model)\n",
    "callbacks = [\n",
    "    ModelCheckpoint(monitor='valid_loss', save_top_k=3, dirpath='weights/GAT_large_batch', filename='GAT-{epoch:03d}-{valid_loss:.4f}-{valid_acc:.4f}'),\n",
    "]\n",
    "\n",
    "trainer = pl.Trainer(max_epochs=200, gpus=1, enable_progress_bar=True, callbacks=callbacks)"
   ]
  },
  {
   "cell_type": "code",
   "execution_count": null,
   "id": "9cdfea2c",
   "metadata": {
    "scrolled": false
   },
   "outputs": [
    {
     "name": "stderr",
     "output_type": "stream",
     "text": [
      "/home/ubuntu/anaconda3/envs/graph/lib/python3.8/site-packages/pytorch_lightning/callbacks/model_checkpoint.py:616: UserWarning: Checkpoint directory /home/ubuntu/Workspace/graph_learning_hackathon/weights/GAT_large_batch exists and is not empty.\n",
      "  rank_zero_warn(f\"Checkpoint directory {dirpath} exists and is not empty.\")\n",
      "LOCAL_RANK: 0 - CUDA_VISIBLE_DEVICES: [0,1]\n",
      "\n",
      "  | Name  | Type | Params\n",
      "-------------------------------\n",
      "0 | model | GNN  | 16.7 M\n",
      "-------------------------------\n",
      "16.7 M    Trainable params\n",
      "0         Non-trainable params\n",
      "16.7 M    Total params\n",
      "66.786    Total estimated model params size (MB)\n"
     ]
    },
    {
     "data": {
      "application/json": {
       "ascii": false,
       "bar_format": null,
       "colour": null,
       "elapsed": 0.021391868591308594,
       "initial": 0,
       "n": 0,
       "ncols": 142,
       "nrows": 23,
       "postfix": null,
       "prefix": "Sanity Checking",
       "rate": null,
       "total": null,
       "unit": "it",
       "unit_divisor": 1000,
       "unit_scale": false
      },
      "application/vnd.jupyter.widget-view+json": {
       "model_id": "",
       "version_major": 2,
       "version_minor": 0
      },
      "text/plain": [
       "Sanity Checking: 0it [00:00, ?it/s]"
      ]
     },
     "metadata": {},
     "output_type": "display_data"
    },
    {
     "data": {
      "application/json": {
       "ascii": false,
       "bar_format": null,
       "colour": null,
       "elapsed": 0.016472339630126953,
       "initial": 0,
       "n": 0,
       "ncols": 142,
       "nrows": 23,
       "postfix": null,
       "prefix": "Training",
       "rate": null,
       "total": null,
       "unit": "it",
       "unit_divisor": 1000,
       "unit_scale": false
      },
      "application/vnd.jupyter.widget-view+json": {
       "model_id": "713fa6416b494929a1048fb959ae299e",
       "version_major": 2,
       "version_minor": 0
      },
      "text/plain": [
       "Training: 0it [00:00, ?it/s]"
      ]
     },
     "metadata": {},
     "output_type": "display_data"
    },
    {
     "data": {
      "application/json": {
       "ascii": false,
       "bar_format": null,
       "colour": null,
       "elapsed": 0.017460346221923828,
       "initial": 0,
       "n": 0,
       "ncols": 142,
       "nrows": 23,
       "postfix": null,
       "prefix": "Validation",
       "rate": null,
       "total": null,
       "unit": "it",
       "unit_divisor": 1000,
       "unit_scale": false
      },
      "application/vnd.jupyter.widget-view+json": {
       "model_id": "",
       "version_major": 2,
       "version_minor": 0
      },
      "text/plain": [
       "Validation: 0it [00:00, ?it/s]"
      ]
     },
     "metadata": {},
     "output_type": "display_data"
    },
    {
     "data": {
      "application/json": {
       "ascii": false,
       "bar_format": null,
       "colour": null,
       "elapsed": 0.01856708526611328,
       "initial": 0,
       "n": 0,
       "ncols": 142,
       "nrows": 23,
       "postfix": null,
       "prefix": "Validation",
       "rate": null,
       "total": null,
       "unit": "it",
       "unit_divisor": 1000,
       "unit_scale": false
      },
      "application/vnd.jupyter.widget-view+json": {
       "model_id": "",
       "version_major": 2,
       "version_minor": 0
      },
      "text/plain": [
       "Validation: 0it [00:00, ?it/s]"
      ]
     },
     "metadata": {},
     "output_type": "display_data"
    },
    {
     "data": {
      "application/json": {
       "ascii": false,
       "bar_format": null,
       "colour": null,
       "elapsed": 0.018975496292114258,
       "initial": 0,
       "n": 0,
       "ncols": 142,
       "nrows": 23,
       "postfix": null,
       "prefix": "Validation",
       "rate": null,
       "total": null,
       "unit": "it",
       "unit_divisor": 1000,
       "unit_scale": false
      },
      "application/vnd.jupyter.widget-view+json": {
       "model_id": "",
       "version_major": 2,
       "version_minor": 0
      },
      "text/plain": [
       "Validation: 0it [00:00, ?it/s]"
      ]
     },
     "metadata": {},
     "output_type": "display_data"
    },
    {
     "data": {
      "application/json": {
       "ascii": false,
       "bar_format": null,
       "colour": null,
       "elapsed": 0.016989946365356445,
       "initial": 0,
       "n": 0,
       "ncols": 142,
       "nrows": 23,
       "postfix": null,
       "prefix": "Validation",
       "rate": null,
       "total": null,
       "unit": "it",
       "unit_divisor": 1000,
       "unit_scale": false
      },
      "application/vnd.jupyter.widget-view+json": {
       "model_id": "",
       "version_major": 2,
       "version_minor": 0
      },
      "text/plain": [
       "Validation: 0it [00:00, ?it/s]"
      ]
     },
     "metadata": {},
     "output_type": "display_data"
    },
    {
     "data": {
      "application/json": {
       "ascii": false,
       "bar_format": null,
       "colour": null,
       "elapsed": 0.017673492431640625,
       "initial": 0,
       "n": 0,
       "ncols": 142,
       "nrows": 23,
       "postfix": null,
       "prefix": "Validation",
       "rate": null,
       "total": null,
       "unit": "it",
       "unit_divisor": 1000,
       "unit_scale": false
      },
      "application/vnd.jupyter.widget-view+json": {
       "model_id": "",
       "version_major": 2,
       "version_minor": 0
      },
      "text/plain": [
       "Validation: 0it [00:00, ?it/s]"
      ]
     },
     "metadata": {},
     "output_type": "display_data"
    }
   ],
   "source": [
    "trainer.fit(predictor, train_dataloader, valid_dataloader)"
   ]
  },
  {
   "cell_type": "code",
   "execution_count": 14,
   "id": "75f33ab8",
   "metadata": {
    "scrolled": false
   },
   "outputs": [
    {
     "name": "stderr",
     "output_type": "stream",
     "text": [
      "LOCAL_RANK: 0 - CUDA_VISIBLE_DEVICES: [0,1]\n"
     ]
    },
    {
     "data": {
      "application/json": {
       "ascii": false,
       "bar_format": null,
       "colour": null,
       "elapsed": 0.01639270782470703,
       "initial": 0,
       "n": 0,
       "ncols": 142,
       "nrows": 23,
       "postfix": null,
       "prefix": "Predicting",
       "rate": null,
       "total": null,
       "unit": "it",
       "unit_divisor": 1000,
       "unit_scale": false
      },
      "application/vnd.jupyter.widget-view+json": {
       "model_id": "1bd9a2321a7641d2b4be9d53edc911d2",
       "version_major": 2,
       "version_minor": 0
      },
      "text/plain": [
       "Predicting: 0it [00:00, ?it/s]"
      ]
     },
     "metadata": {},
     "output_type": "display_data"
    }
   ],
   "source": [
    "ckpt_fname = \"\"\n",
    "predictor = predictor.load_from_checkpoint(\"weights/GAT_large_batch/\" + ckpt_fname, model=model)\n",
    "\n",
    "pred = trainer.predict(predictor, test_dataloader)"
   ]
  },
  {
   "cell_type": "code",
   "execution_count": 18,
   "id": "96e91ee6",
   "metadata": {},
   "outputs": [
    {
     "name": "stderr",
     "output_type": "stream",
     "text": [
      "\n",
      "100%|██████████████████████████████████████████████████████████████████████████████████████████████████████| 64/64 [00:00<00:00, 96594.26it/s]\u001b[A\n"
     ]
    }
   ],
   "source": [
    "preds = []\n",
    "\n",
    "def to_np(x):\n",
    "    return x.cpu().detach().numpy()\n",
    "\n",
    "for p in tqdm(pred):\n",
    "    preds.append(to_np(p))\n",
    "\n",
    "preds = np.concatenate(preds, axis=0)\n",
    "np.savetxt('pred.csv', preds)"
   ]
  },
  {
   "cell_type": "code",
   "execution_count": null,
   "id": "33d784cf",
   "metadata": {},
   "outputs": [],
   "source": []
  }
 ],
 "metadata": {
  "kernelspec": {
   "display_name": "Python 3 (ipykernel)",
   "language": "python",
   "name": "python3"
  },
  "language_info": {
   "codemirror_mode": {
    "name": "ipython",
    "version": 3
   },
   "file_extension": ".py",
   "mimetype": "text/x-python",
   "name": "python",
   "nbconvert_exporter": "python",
   "pygments_lexer": "ipython3",
   "version": "3.8.13"
  }
 },
 "nbformat": 4,
 "nbformat_minor": 5
}
