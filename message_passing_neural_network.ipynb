{
 "cells": [
  {
   "cell_type": "code",
   "execution_count": 1,
   "id": "00ae9c40",
   "metadata": {},
   "outputs": [],
   "source": [
    "import os\n",
    "import torch\n",
    "import numpy as np\n",
    "from tqdm import tqdm\n",
    "\n",
    "from torch import nn, optim\n",
    "import torch.nn.functional as F\n",
    "from torch.utils.data import DataLoader\n",
    "\n",
    "from qm9_dataset import QM9DGLDataset\n",
    "\n",
    "import dgl\n",
    "\n",
    "from dgllife.model.gnn.mpnn import MPNNGNN\n",
    "from dgl.nn.pytorch import Set2Set\n",
    "\n",
    "import pytorch_lightning as pl\n",
    "import torchmetrics.functional as tm\n",
    "from pytorch_lightning.callbacks import ModelCheckpoint, EarlyStopping\n",
    "\n",
    "config = {\n",
    "    \"data_path\": \"./data/\",\n",
    "    \"task\": \"mu\",\n",
    "    \"train_data\": \"qm9_train_data.pt\",\n",
    "    \"test_data\": \"qm9_test_data.pt\",\n",
    "    \"batch_size\": 256,\n",
    "    \"num_workers\": 16\n",
    "}"
   ]
  },
  {
   "cell_type": "code",
   "execution_count": 2,
   "id": "2582a49f",
   "metadata": {
    "scrolled": false
   },
   "outputs": [
    {
     "name": "stdout",
     "output_type": "stream",
     "text": [
      "Loaded train-set, task: mu, source: ./data/, length: 98123\n",
      "Loaded test-set, task: mu, source: ./data/, length: 32708\n",
      "Train set size: 78498\n",
      "Validation set size: 19625\n",
      "Test set size: 32708\n"
     ]
    }
   ],
   "source": [
    "dataset = QM9DGLDataset(config[\"data_path\"],\n",
    "                        config[\"task\"],\n",
    "                        file_name=config[\"train_data\"],\n",
    "                        mode='train')\n",
    "\n",
    "train_dataset, val_dataset = dataset.train_val_random_split(0.8)\n",
    "\n",
    "\n",
    "train_dataloader = DataLoader(train_dataset,\n",
    "                              batch_size=config[\"batch_size\"],\n",
    "                              shuffle=True,\n",
    "                              collate_fn=dataset.collate_fn,\n",
    "                              num_workers=config[\"num_workers\"])\n",
    "\n",
    "valid_dataloader = DataLoader(val_dataset,\n",
    "                              batch_size=config[\"batch_size\"],\n",
    "                              shuffle=False,\n",
    "                              collate_fn=dataset.collate_fn,\n",
    "                              num_workers=config[\"num_workers\"])\n",
    "\n",
    "# Test Dataset\n",
    "test_dataset = QM9DGLDataset(config[\"data_path\"],\n",
    "                             config[\"task\"],\n",
    "                             file_name=config[\"test_data\"],\n",
    "                             mode='test')\n",
    "\n",
    "test_dataloader = DataLoader(test_dataset,\n",
    "                             batch_size=config[\"batch_size\"],\n",
    "                             shuffle=False,\n",
    "                             collate_fn=test_dataset.collate_fn,\n",
    "                             num_workers=config[\"num_workers\"])\n",
    "\n",
    "print(f\"Train set size: {len(train_dataset)}\")\n",
    "print(f\"Validation set size: {len(val_dataset)}\")\n",
    "print(f\"Test set size: {len(test_dataset)}\")"
   ]
  },
  {
   "cell_type": "code",
   "execution_count": 3,
   "id": "fbdf6927",
   "metadata": {},
   "outputs": [],
   "source": [
    "import torch\n",
    "import torch.nn as nn\n",
    "import torch.nn.functional as F\n",
    "\n",
    "\n",
    "class MPNN(nn.Module):\n",
    "    def __init__(self, num_atom_type=5, num_edge_type=4, \n",
    "                 node_in_feats=32, node_out_feats=64, \n",
    "                 edge_in_feats=32, edge_hidden_feats=64, n_tasks=1):\n",
    "        super().__init__()\n",
    "        \n",
    "        self.node_embedding = nn.Embedding(num_atom_type, node_in_feats)\n",
    "        self.edge_embedding = nn.Embedding(num_edge_type, edge_in_feats)\n",
    "\n",
    "        self.gnn = MPNNGNN(\n",
    "            node_in_feats=32, \n",
    "            node_out_feats=64, \n",
    "            edge_in_feats=32,\n",
    "            edge_hidden_feats=64\n",
    "        )\n",
    "        \n",
    "        self.readout = Set2Set(\n",
    "            input_dim=node_out_feats, \n",
    "            n_iters=6,\n",
    "            n_layers=3\n",
    "        )\n",
    "        \n",
    "        self.predict = nn.Sequential(\n",
    "            nn.Linear(2*node_out_feats, node_out_feats),\n",
    "            nn.ReLU(),\n",
    "            nn.Linear(node_out_feats, n_tasks)\n",
    "        )\n",
    "               \n",
    "        \n",
    "    def forward(self, graph):\n",
    "        node_feats = graph.ndata['f'].long()\n",
    "        node_embeddings = self.node_embedding(node_feats)\n",
    "        \n",
    "        edge_feats = graph.edata['f'].long()\n",
    "        edge_embeddings = self.edge_embedding(edge_feats)\n",
    "       \n",
    "        node_feats = self.gnn(graph, node_embeddings, edge_embeddings)\n",
    "        graph_feats = self.readout(graph, node_feats)\n",
    "        out = self.predict(graph_feats)\n",
    "        \n",
    "        return out"
   ]
  },
  {
   "cell_type": "code",
   "execution_count": 4,
   "id": "04581a2e",
   "metadata": {
    "scrolled": false
   },
   "outputs": [
    {
     "name": "stderr",
     "output_type": "stream",
     "text": [
      "/home/ubuntu/anaconda3/envs/graph/lib/python3.8/site-packages/pytorch_lightning/trainer/connectors/accelerator_connector.py:447: LightningDeprecationWarning: Setting `Trainer(gpus=1)` is deprecated in v1.7 and will be removed in v2.0. Please use `Trainer(accelerator='gpu', devices=1)` instead.\n",
      "  rank_zero_deprecation(\n",
      "GPU available: True (cuda), used: True\n",
      "TPU available: False, using: 0 TPU cores\n",
      "IPU available: False, using: 0 IPUs\n",
      "HPU available: False, using: 0 HPUs\n"
     ]
    }
   ],
   "source": [
    "class Mu_predictor(pl.LightningModule):\n",
    "    def __init__(self, model):\n",
    "        super().__init__()\n",
    "        self.model = model\n",
    "    \n",
    "    def step(self, batch):\n",
    "        graph, y = batch\n",
    "        pred = self.model(graph)\n",
    "        loss = F.l1_loss(pred, y)\n",
    "        acc = tm.mean_squared_error(pred, y).sqrt()\n",
    "        \n",
    "        return pred, loss, acc\n",
    "    \n",
    "       \n",
    "    def training_step(self, batch, batch_idx):\n",
    "        _, loss, acc = self.step(batch)\n",
    "        \n",
    "        self.log('train_loss', loss, on_step=False, on_epoch=True, prog_bar=True)\n",
    "        \n",
    "        return loss\n",
    "\n",
    "    \n",
    "    def validation_step(self, batch, batch_idx):\n",
    "        _, loss, acc = self.step(batch)\n",
    "        \n",
    "        self.log('valid_loss', loss, on_step=False, on_epoch=True, prog_bar=True)\n",
    "        self.log(\"valid_acc\", acc, on_step=False, on_epoch=True, prog_bar=True)\n",
    "    \n",
    "    \n",
    "    def test_step(self, batch, batch_idx):\n",
    "        _, loss, acc = self.step(batch)\n",
    "        \n",
    "        self.log('test_loss', loss, on_step=False, on_epoch=True, prog_bar=True)\n",
    "        self.log(\"test_acc\", acc, on_step=False, on_epoch=True, prog_bar=True)\n",
    "    \n",
    "    \n",
    "    def predict_step(self, batch, batch_idx):\n",
    "        return self.model(batch)\n",
    "    \n",
    "    \n",
    "    def configure_optimizers(self):\n",
    "        optimizer = torch.optim.Adam(self.parameters(), lr=1e-4)\n",
    "        scheduler = torch.optim.lr_scheduler.CosineAnnealingLR(optimizer, T_max=20)\n",
    "    \n",
    "        return {\"optimizer\": optimizer, \"lr_scheduler\": scheduler}\n",
    "    \n",
    "    \n",
    "model = MPNN()\n",
    "predictor = Mu_predictor(model)\n",
    "\n",
    "callbacks = [\n",
    "    ModelCheckpoint(monitor='valid_loss', save_top_k=3, dirpath='weights/MPNN', filename='GAT-{epoch:03d}-{valid_loss:.4f}-{valid_acc:.4f}'),\n",
    "]\n",
    "\n",
    "trainer = pl.Trainer(max_epochs=500, gpus=1, enable_progress_bar=True, callbacks=callbacks)"
   ]
  },
  {
   "cell_type": "code",
   "execution_count": null,
   "id": "78bd3f89",
   "metadata": {
    "scrolled": false
   },
   "outputs": [
    {
     "name": "stderr",
     "output_type": "stream",
     "text": [
      "Missing logger folder: /home/ubuntu/Workspace/graph_learning_hackathon/lightning_logs\n",
      "/home/ubuntu/anaconda3/envs/graph/lib/python3.8/site-packages/pytorch_lightning/callbacks/model_checkpoint.py:616: UserWarning: Checkpoint directory /home/ubuntu/Workspace/graph_learning_hackathon/weights/MPNN exists and is not empty.\n",
      "  rank_zero_warn(f\"Checkpoint directory {dirpath} exists and is not empty.\")\n",
      "LOCAL_RANK: 0 - CUDA_VISIBLE_DEVICES: [0,1]\n",
      "\n",
      "  | Name  | Type | Params\n",
      "-------------------------------\n",
      "0 | model | MPNN | 420 K \n",
      "-------------------------------\n",
      "420 K     Trainable params\n",
      "0         Non-trainable params\n",
      "420 K     Total params\n",
      "1.681     Total estimated model params size (MB)\n"
     ]
    },
    {
     "data": {
      "application/json": {
       "ascii": false,
       "bar_format": null,
       "colour": null,
       "elapsed": 0.02095961570739746,
       "initial": 0,
       "n": 0,
       "ncols": 142,
       "nrows": 23,
       "postfix": null,
       "prefix": "Sanity Checking",
       "rate": null,
       "total": null,
       "unit": "it",
       "unit_divisor": 1000,
       "unit_scale": false
      },
      "application/vnd.jupyter.widget-view+json": {
       "model_id": "",
       "version_major": 2,
       "version_minor": 0
      },
      "text/plain": [
       "Sanity Checking: 0it [00:00, ?it/s]"
      ]
     },
     "metadata": {},
     "output_type": "display_data"
    },
    {
     "data": {
      "application/json": {
       "ascii": false,
       "bar_format": null,
       "colour": null,
       "elapsed": 0.016639232635498047,
       "initial": 0,
       "n": 0,
       "ncols": 142,
       "nrows": 23,
       "postfix": null,
       "prefix": "Training",
       "rate": null,
       "total": null,
       "unit": "it",
       "unit_divisor": 1000,
       "unit_scale": false
      },
      "application/vnd.jupyter.widget-view+json": {
       "model_id": "960f12f306d1467bb363561e8669290b",
       "version_major": 2,
       "version_minor": 0
      },
      "text/plain": [
       "Training: 0it [00:00, ?it/s]"
      ]
     },
     "metadata": {},
     "output_type": "display_data"
    },
    {
     "data": {
      "application/json": {
       "ascii": false,
       "bar_format": null,
       "colour": null,
       "elapsed": 0.01815652847290039,
       "initial": 0,
       "n": 0,
       "ncols": 142,
       "nrows": 23,
       "postfix": null,
       "prefix": "Validation",
       "rate": null,
       "total": null,
       "unit": "it",
       "unit_divisor": 1000,
       "unit_scale": false
      },
      "application/vnd.jupyter.widget-view+json": {
       "model_id": "",
       "version_major": 2,
       "version_minor": 0
      },
      "text/plain": [
       "Validation: 0it [00:00, ?it/s]"
      ]
     },
     "metadata": {},
     "output_type": "display_data"
    }
   ],
   "source": [
    "trainer.fit(predictor, train_dataloader, valid_dataloader)"
   ]
  },
  {
   "cell_type": "code",
   "execution_count": 8,
   "id": "7135c807",
   "metadata": {
    "scrolled": false
   },
   "outputs": [
    {
     "name": "stderr",
     "output_type": "stream",
     "text": [
      "LOCAL_RANK: 0 - CUDA_VISIBLE_DEVICES: [0,1]\n"
     ]
    },
    {
     "data": {
      "application/json": {
       "ascii": false,
       "bar_format": null,
       "colour": null,
       "elapsed": 0.01673436164855957,
       "initial": 307,
       "n": 307,
       "ncols": 142,
       "nrows": 23,
       "postfix": null,
       "prefix": "Predicting",
       "rate": null,
       "total": null,
       "unit": "it",
       "unit_divisor": 1000,
       "unit_scale": false
      },
      "application/vnd.jupyter.widget-view+json": {
       "model_id": "00c7a079c298445096f4389176c8b384",
       "version_major": 2,
       "version_minor": 0
      },
      "text/plain": [
       "Predicting: 307it [00:00, ?it/s]"
      ]
     },
     "metadata": {},
     "output_type": "display_data"
    }
   ],
   "source": [
    "ckpt_fname = \"\"\n",
    "predictor = predictor.load_from_checkpoint(\"weights/MPNN/\" + ckpt_fname, model=model)\n",
    "\n",
    "pred = trainer.predict(predictor, test_dataloader)"
   ]
  },
  {
   "cell_type": "code",
   "execution_count": 9,
   "id": "62650bc4",
   "metadata": {},
   "outputs": [
    {
     "name": "stderr",
     "output_type": "stream",
     "text": [
      "100%|███████████████████████████████████████████████████████████████████████████████████████████████████| 128/128 [00:00<00:00, 130784.63it/s]\n"
     ]
    }
   ],
   "source": [
    "preds = []\n",
    "\n",
    "def to_np(x):\n",
    "    return x.cpu().detach().numpy()\n",
    "\n",
    "for p in tqdm(pred):\n",
    "    preds.append(to_np(p))\n",
    "\n",
    "preds = np.concatenate(preds, axis=0)\n",
    "np.savetxt('pred.csv', preds)"
   ]
  },
  {
   "cell_type": "code",
   "execution_count": null,
   "id": "f52db554",
   "metadata": {},
   "outputs": [],
   "source": []
  }
 ],
 "metadata": {
  "kernelspec": {
   "display_name": "Python 3 (ipykernel)",
   "language": "python",
   "name": "python3"
  },
  "language_info": {
   "codemirror_mode": {
    "name": "ipython",
    "version": 3
   },
   "file_extension": ".py",
   "mimetype": "text/x-python",
   "name": "python",
   "nbconvert_exporter": "python",
   "pygments_lexer": "ipython3",
   "version": "3.8.13"
  }
 },
 "nbformat": 4,
 "nbformat_minor": 5
}
